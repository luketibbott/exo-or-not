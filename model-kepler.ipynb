{
 "cells": [
  {
   "cell_type": "markdown",
   "metadata": {},
   "source": [
    "## Modeling\n",
    "\n",
    "This notebook begins the modeling process for our data set. I will work through several different machine learning algorithms and choose which one is the best based on several metrics including precision and recall."
   ]
  },
  {
   "cell_type": "code",
   "execution_count": 236,
   "metadata": {},
   "outputs": [
    {
     "name": "stdout",
     "output_type": "stream",
     "text": [
      "The autoreload extension is already loaded. To reload it, use:\n",
      "  %reload_ext autoreload\n"
     ]
    }
   ],
   "source": [
    "import pandas as pd\n",
    "import numpy as np\n",
    "import matplotlib.pyplot as plt\n",
    "import keplerutils\n",
    "import seaborn as sns\n",
    "\n",
    "from sklearn.pipeline import make_pipeline\n",
    "from sklearn.preprocessing import StandardScaler\n",
    "\n",
    "from sklearn import metrics\n",
    "from sklearn.model_selection import cross_val_score\n",
    "from sklearn.model_selection import train_test_split\n",
    "from sklearn.model_selection import GridSearchCV\n",
    "from sklearn.model_selection import RandomizedSearchCV\n",
    "from sklearn.metrics import f1_score\n",
    "from sklearn.metrics import precision_score\n",
    "from sklearn.metrics import recall_score\n",
    "from sklearn.metrics import accuracy_score\n",
    "from sklearn.metrics import confusion_matrix\n",
    "from sklearn.metrics import classification_report\n",
    "\n",
    "# Models\n",
    "from sklearn.linear_model import LogisticRegression\n",
    "from sklearn.neighbors import KNeighborsClassifier\n",
    "from sklearn.ensemble import RandomForestClassifier\n",
    "from sklearn.svm import SVC # Support vector machines\n",
    "from sklearn.ensemble import GradientBoostingClassifier\n",
    "from sklearn.naive_bayes import GaussianNB # Gaussian Naive Bayes\n",
    "from sklearn.naive_bayes import BernoulliNB # Bernoulli Naive Bayes\n",
    "from sklearn.naive_bayes import MultinomialNB # Multinomial Naive Bayes\n",
    "from sklearn import tree # Decision tree\n",
    "from sklearn.linear_model import SGDClassifier # Stochastic gradient descent \n",
    "\n",
    "from imblearn.over_sampling import SMOTE\n",
    "\n",
    "%matplotlib inline\n",
    "%load_ext autoreload\n",
    "%autoreload 2"
   ]
  },
  {
   "cell_type": "code",
   "execution_count": 240,
   "metadata": {},
   "outputs": [],
   "source": [
    "df['slogg_exp'] = np.exp(df['slogg'])"
   ]
  },
  {
   "cell_type": "code",
   "execution_count": 241,
   "metadata": {},
   "outputs": [
    {
     "data": {
      "text/html": [
       "<div>\n",
       "<style scoped>\n",
       "    .dataframe tbody tr th:only-of-type {\n",
       "        vertical-align: middle;\n",
       "    }\n",
       "\n",
       "    .dataframe tbody tr th {\n",
       "        vertical-align: top;\n",
       "    }\n",
       "\n",
       "    .dataframe thead th {\n",
       "        text-align: right;\n",
       "    }\n",
       "</style>\n",
       "<table border=\"1\" class=\"dataframe\">\n",
       "  <thead>\n",
       "    <tr style=\"text-align: right;\">\n",
       "      <th></th>\n",
       "      <th>disposition</th>\n",
       "      <th>period</th>\n",
       "      <th>time0bk</th>\n",
       "      <th>impact</th>\n",
       "      <th>duration</th>\n",
       "      <th>depth</th>\n",
       "      <th>prad</th>\n",
       "      <th>teq</th>\n",
       "      <th>insol</th>\n",
       "      <th>model_snr</th>\n",
       "      <th>steff</th>\n",
       "      <th>slogg</th>\n",
       "      <th>srad</th>\n",
       "      <th>ra</th>\n",
       "      <th>dec</th>\n",
       "      <th>kepmag</th>\n",
       "      <th>slogg_exp</th>\n",
       "    </tr>\n",
       "  </thead>\n",
       "  <tbody>\n",
       "    <tr>\n",
       "      <th>0</th>\n",
       "      <td>1</td>\n",
       "      <td>9.488036</td>\n",
       "      <td>170.538750</td>\n",
       "      <td>0.146</td>\n",
       "      <td>2.95750</td>\n",
       "      <td>615.8</td>\n",
       "      <td>2.26</td>\n",
       "      <td>793.0</td>\n",
       "      <td>93.59</td>\n",
       "      <td>35.8</td>\n",
       "      <td>5455.0</td>\n",
       "      <td>4.467</td>\n",
       "      <td>0.927</td>\n",
       "      <td>291.93423</td>\n",
       "      <td>48.141651</td>\n",
       "      <td>15.347</td>\n",
       "      <td>87.095046</td>\n",
       "    </tr>\n",
       "    <tr>\n",
       "      <th>1</th>\n",
       "      <td>1</td>\n",
       "      <td>54.418383</td>\n",
       "      <td>162.513840</td>\n",
       "      <td>0.586</td>\n",
       "      <td>4.50700</td>\n",
       "      <td>874.8</td>\n",
       "      <td>2.83</td>\n",
       "      <td>443.0</td>\n",
       "      <td>9.11</td>\n",
       "      <td>25.8</td>\n",
       "      <td>5455.0</td>\n",
       "      <td>4.467</td>\n",
       "      <td>0.927</td>\n",
       "      <td>291.93423</td>\n",
       "      <td>48.141651</td>\n",
       "      <td>15.347</td>\n",
       "      <td>87.095046</td>\n",
       "    </tr>\n",
       "    <tr>\n",
       "      <th>2</th>\n",
       "      <td>0</td>\n",
       "      <td>19.899140</td>\n",
       "      <td>175.850252</td>\n",
       "      <td>0.969</td>\n",
       "      <td>1.78220</td>\n",
       "      <td>10829.0</td>\n",
       "      <td>14.60</td>\n",
       "      <td>638.0</td>\n",
       "      <td>39.30</td>\n",
       "      <td>76.3</td>\n",
       "      <td>5853.0</td>\n",
       "      <td>4.544</td>\n",
       "      <td>0.868</td>\n",
       "      <td>297.00482</td>\n",
       "      <td>48.134129</td>\n",
       "      <td>15.436</td>\n",
       "      <td>94.066314</td>\n",
       "    </tr>\n",
       "    <tr>\n",
       "      <th>3</th>\n",
       "      <td>0</td>\n",
       "      <td>1.736952</td>\n",
       "      <td>170.307565</td>\n",
       "      <td>1.276</td>\n",
       "      <td>2.40641</td>\n",
       "      <td>8079.2</td>\n",
       "      <td>33.46</td>\n",
       "      <td>1395.0</td>\n",
       "      <td>891.96</td>\n",
       "      <td>505.6</td>\n",
       "      <td>5805.0</td>\n",
       "      <td>4.564</td>\n",
       "      <td>0.791</td>\n",
       "      <td>285.53461</td>\n",
       "      <td>48.285210</td>\n",
       "      <td>15.597</td>\n",
       "      <td>95.966579</td>\n",
       "    </tr>\n",
       "    <tr>\n",
       "      <th>4</th>\n",
       "      <td>1</td>\n",
       "      <td>2.525592</td>\n",
       "      <td>171.595550</td>\n",
       "      <td>0.701</td>\n",
       "      <td>1.65450</td>\n",
       "      <td>603.3</td>\n",
       "      <td>2.75</td>\n",
       "      <td>1406.0</td>\n",
       "      <td>926.16</td>\n",
       "      <td>40.9</td>\n",
       "      <td>6031.0</td>\n",
       "      <td>4.438</td>\n",
       "      <td>1.046</td>\n",
       "      <td>288.75488</td>\n",
       "      <td>48.226200</td>\n",
       "      <td>15.509</td>\n",
       "      <td>84.605561</td>\n",
       "    </tr>\n",
       "  </tbody>\n",
       "</table>\n",
       "</div>"
      ],
      "text/plain": [
       "   disposition     period     time0bk  impact  duration    depth   prad  \\\n",
       "0            1   9.488036  170.538750   0.146   2.95750    615.8   2.26   \n",
       "1            1  54.418383  162.513840   0.586   4.50700    874.8   2.83   \n",
       "2            0  19.899140  175.850252   0.969   1.78220  10829.0  14.60   \n",
       "3            0   1.736952  170.307565   1.276   2.40641   8079.2  33.46   \n",
       "4            1   2.525592  171.595550   0.701   1.65450    603.3   2.75   \n",
       "\n",
       "      teq   insol  model_snr   steff  slogg   srad         ra        dec  \\\n",
       "0   793.0   93.59       35.8  5455.0  4.467  0.927  291.93423  48.141651   \n",
       "1   443.0    9.11       25.8  5455.0  4.467  0.927  291.93423  48.141651   \n",
       "2   638.0   39.30       76.3  5853.0  4.544  0.868  297.00482  48.134129   \n",
       "3  1395.0  891.96      505.6  5805.0  4.564  0.791  285.53461  48.285210   \n",
       "4  1406.0  926.16       40.9  6031.0  4.438  1.046  288.75488  48.226200   \n",
       "\n",
       "   kepmag  slogg_exp  \n",
       "0  15.347  87.095046  \n",
       "1  15.347  87.095046  \n",
       "2  15.436  94.066314  \n",
       "3  15.597  95.966579  \n",
       "4  15.509  84.605561  "
      ]
     },
     "execution_count": 241,
     "metadata": {},
     "output_type": "execute_result"
    }
   ],
   "source": [
    "df.head()"
   ]
  },
  {
   "cell_type": "code",
   "execution_count": 238,
   "metadata": {},
   "outputs": [
    {
     "data": {
      "text/plain": [
       "<matplotlib.axes._subplots.AxesSubplot at 0x112efdf28>"
      ]
     },
     "execution_count": 238,
     "metadata": {},
     "output_type": "execute_result"
    },
    {
     "data": {
      "image/png": "[encoded data removed]",
      "text/plain": [
       "<Figure size 1008x720 with 2 Axes>"
      ]
     },
     "metadata": {},
     "output_type": "display_data"
    }
   ],
   "source": [
    "plt.figure(figsize=(14, 10))\n",
    "sns.heatmap(df.corr())"
   ]
  },
  {
   "cell_type": "code",
   "execution_count": 2,
   "metadata": {},
   "outputs": [],
   "source": [
    "df = pd.read_csv('objects-of-interest.csv', index_col = 0)"
   ]
  },
  {
   "cell_type": "code",
   "execution_count": 3,
   "metadata": {},
   "outputs": [],
   "source": [
    "df = df.drop(labels=['rowid', 'kepoi_name', 'pdisposition', 'tce_delivname', 'kepid'], axis=1)"
   ]
  },
  {
   "cell_type": "code",
   "execution_count": 4,
   "metadata": {},
   "outputs": [],
   "source": [
    "df = df.drop(labels=['tce_plnt_num'], axis=1)"
   ]
  },
  {
   "cell_type": "code",
   "execution_count": 196,
   "metadata": {},
   "outputs": [],
   "source": [
    "df['disposition'] = df['disposition'].apply(lambda x: keplerutils.encode_response(x))"
   ]
  },
  {
   "cell_type": "code",
   "execution_count": 197,
   "metadata": {},
   "outputs": [
    {
     "data": {
      "text/html": [
       "<div>\n",
       "<style scoped>\n",
       "    .dataframe tbody tr th:only-of-type {\n",
       "        vertical-align: middle;\n",
       "    }\n",
       "\n",
       "    .dataframe tbody tr th {\n",
       "        vertical-align: top;\n",
       "    }\n",
       "\n",
       "    .dataframe thead th {\n",
       "        text-align: right;\n",
       "    }\n",
       "</style>\n",
       "<table border=\"1\" class=\"dataframe\">\n",
       "  <thead>\n",
       "    <tr style=\"text-align: right;\">\n",
       "      <th></th>\n",
       "      <th>disposition</th>\n",
       "      <th>period</th>\n",
       "      <th>time0bk</th>\n",
       "      <th>impact</th>\n",
       "      <th>duration</th>\n",
       "      <th>depth</th>\n",
       "      <th>prad</th>\n",
       "      <th>teq</th>\n",
       "      <th>insol</th>\n",
       "      <th>model_snr</th>\n",
       "      <th>steff</th>\n",
       "      <th>slogg</th>\n",
       "      <th>srad</th>\n",
       "      <th>ra</th>\n",
       "      <th>dec</th>\n",
       "      <th>kepmag</th>\n",
       "    </tr>\n",
       "  </thead>\n",
       "  <tbody>\n",
       "    <tr>\n",
       "      <th>0</th>\n",
       "      <td>1</td>\n",
       "      <td>9.488036</td>\n",
       "      <td>170.538750</td>\n",
       "      <td>0.146</td>\n",
       "      <td>2.95750</td>\n",
       "      <td>615.8</td>\n",
       "      <td>2.26</td>\n",
       "      <td>793.0</td>\n",
       "      <td>93.59</td>\n",
       "      <td>35.8</td>\n",
       "      <td>5455.0</td>\n",
       "      <td>4.467</td>\n",
       "      <td>0.927</td>\n",
       "      <td>291.93423</td>\n",
       "      <td>48.141651</td>\n",
       "      <td>15.347</td>\n",
       "    </tr>\n",
       "    <tr>\n",
       "      <th>1</th>\n",
       "      <td>1</td>\n",
       "      <td>54.418383</td>\n",
       "      <td>162.513840</td>\n",
       "      <td>0.586</td>\n",
       "      <td>4.50700</td>\n",
       "      <td>874.8</td>\n",
       "      <td>2.83</td>\n",
       "      <td>443.0</td>\n",
       "      <td>9.11</td>\n",
       "      <td>25.8</td>\n",
       "      <td>5455.0</td>\n",
       "      <td>4.467</td>\n",
       "      <td>0.927</td>\n",
       "      <td>291.93423</td>\n",
       "      <td>48.141651</td>\n",
       "      <td>15.347</td>\n",
       "    </tr>\n",
       "    <tr>\n",
       "      <th>2</th>\n",
       "      <td>0</td>\n",
       "      <td>19.899140</td>\n",
       "      <td>175.850252</td>\n",
       "      <td>0.969</td>\n",
       "      <td>1.78220</td>\n",
       "      <td>10829.0</td>\n",
       "      <td>14.60</td>\n",
       "      <td>638.0</td>\n",
       "      <td>39.30</td>\n",
       "      <td>76.3</td>\n",
       "      <td>5853.0</td>\n",
       "      <td>4.544</td>\n",
       "      <td>0.868</td>\n",
       "      <td>297.00482</td>\n",
       "      <td>48.134129</td>\n",
       "      <td>15.436</td>\n",
       "    </tr>\n",
       "    <tr>\n",
       "      <th>3</th>\n",
       "      <td>0</td>\n",
       "      <td>1.736952</td>\n",
       "      <td>170.307565</td>\n",
       "      <td>1.276</td>\n",
       "      <td>2.40641</td>\n",
       "      <td>8079.2</td>\n",
       "      <td>33.46</td>\n",
       "      <td>1395.0</td>\n",
       "      <td>891.96</td>\n",
       "      <td>505.6</td>\n",
       "      <td>5805.0</td>\n",
       "      <td>4.564</td>\n",
       "      <td>0.791</td>\n",
       "      <td>285.53461</td>\n",
       "      <td>48.285210</td>\n",
       "      <td>15.597</td>\n",
       "    </tr>\n",
       "    <tr>\n",
       "      <th>4</th>\n",
       "      <td>1</td>\n",
       "      <td>2.525592</td>\n",
       "      <td>171.595550</td>\n",
       "      <td>0.701</td>\n",
       "      <td>1.65450</td>\n",
       "      <td>603.3</td>\n",
       "      <td>2.75</td>\n",
       "      <td>1406.0</td>\n",
       "      <td>926.16</td>\n",
       "      <td>40.9</td>\n",
       "      <td>6031.0</td>\n",
       "      <td>4.438</td>\n",
       "      <td>1.046</td>\n",
       "      <td>288.75488</td>\n",
       "      <td>48.226200</td>\n",
       "      <td>15.509</td>\n",
       "    </tr>\n",
       "  </tbody>\n",
       "</table>\n",
       "</div>"
      ],
      "text/plain": [
       "   disposition     period     time0bk  impact  duration    depth   prad  \\\n",
       "0            1   9.488036  170.538750   0.146   2.95750    615.8   2.26   \n",
       "1            1  54.418383  162.513840   0.586   4.50700    874.8   2.83   \n",
       "2            0  19.899140  175.850252   0.969   1.78220  10829.0  14.60   \n",
       "3            0   1.736952  170.307565   1.276   2.40641   8079.2  33.46   \n",
       "4            1   2.525592  171.595550   0.701   1.65450    603.3   2.75   \n",
       "\n",
       "      teq   insol  model_snr   steff  slogg   srad         ra        dec  \\\n",
       "0   793.0   93.59       35.8  5455.0  4.467  0.927  291.93423  48.141651   \n",
       "1   443.0    9.11       25.8  5455.0  4.467  0.927  291.93423  48.141651   \n",
       "2   638.0   39.30       76.3  5853.0  4.544  0.868  297.00482  48.134129   \n",
       "3  1395.0  891.96      505.6  5805.0  4.564  0.791  285.53461  48.285210   \n",
       "4  1406.0  926.16       40.9  6031.0  4.438  1.046  288.75488  48.226200   \n",
       "\n",
       "   kepmag  \n",
       "0  15.347  \n",
       "1  15.347  \n",
       "2  15.436  \n",
       "3  15.597  \n",
       "4  15.509  "
      ]
     },
     "execution_count": 197,
     "metadata": {},
     "output_type": "execute_result"
    }
   ],
   "source": [
    "df.head()"
   ]
  },
  {
   "cell_type": "markdown",
   "metadata": {},
   "source": [
    "In the `disposition` column, 1 means an object of interest was confirmed as an exoplanet, and a 0 means an object of interest was not an exoplanet.\n",
    "\n",
    "## Models to test:\n",
    "\n",
    "* KNN\n",
    "* Logistic regression\n",
    "* Random forest\n",
    "* Naive Bayes (Gaussian, Bernoulli)\n",
    "* Decision tree\n",
    "* Gradient descent (vanilla, stochastic, mini batch)\n",
    "* SVM \n",
    "* Gradient boosting\n",
    "\n",
    "First we need to establish a train test split of our data and save it to a dataframe."
   ]
  },
  {
   "cell_type": "code",
   "execution_count": 208,
   "metadata": {},
   "outputs": [],
   "source": [
    "X_train_res, X_test, y_train_res, y_test = keplerutils.split_and_upsample(df)"
   ]
  },
  {
   "cell_type": "markdown",
   "metadata": {},
   "source": [
    "## K Nearest Neighbors"
   ]
  },
  {
   "cell_type": "code",
   "execution_count": 209,
   "metadata": {},
   "outputs": [],
   "source": [
    "def knnCV(X_train_res, y_train_res):\n",
    "    '''Splits data in to test and training data, 10-fold cross-validates on training data,\n",
    "       calculates scoring metric, and returns the mean of that scoring metric\n",
    "       ----Parameters----\n",
    "       df: Pandas dataframe with response in 0th column, features in rest of columns\n",
    "       ----Returns----\n",
    "       np.mean(scores): the mean of the scores calculated by cross_val_score\n",
    "    '''     \n",
    "    pipe = make_pipeline(StandardScaler(), KNeighborsClassifier())\n",
    "    \n",
    "    tuning_params = {'kneighborsclassifier__n_neighbors': [i for i in range(2, 20)],\n",
    "                     'kneighborsclassifier__weights': ['distance', 'uniform']}\n",
    "    \n",
    "    g = RandomizedSearchCV(pipe, tuning_params, scoring='roc_auc', cv=5, n_jobs = -1)\n",
    "    \n",
    "    g.fit(X_train_res, y_train_res)    \n",
    "            \n",
    "    print('Best parameters: ', g.best_params_)\n",
    "    \n",
    "    print('Mean AUC grid scores: ', g.cv_results_['mean_test_score'])"
   ]
  },
  {
   "cell_type": "code",
   "execution_count": 211,
   "metadata": {},
   "outputs": [
    {
     "name": "stdout",
     "output_type": "stream",
     "text": [
      "Best parameters:  {'kneighborsclassifier__weights': 'distance', 'kneighborsclassifier__n_neighbors': 15}\n",
      "Mean AUC grid scores:  [0.91417124 0.91765818 0.9187453  0.91882683 0.91546152 0.9333432\n",
      " 0.9192428  0.9181425  0.92824231 0.93225095]\n"
     ]
    }
   ],
   "source": [
    "knnCV(X_train_res, y_train_res)"
   ]
  },
  {
   "cell_type": "markdown",
   "metadata": {},
   "source": [
    "## Logistic Regression"
   ]
  },
  {
   "cell_type": "code",
   "execution_count": 215,
   "metadata": {},
   "outputs": [],
   "source": [
    "def logisticCV(X_train_res, y_train_res):\n",
    "    '''\n",
    "        Performs logistic regression with 5-fold cross validated grid search on training data.\n",
    "        Prints AUC scores and best parameters.\n",
    "       ----Parameters----\n",
    "        X_train_res: SMOTE-resampled features\n",
    "        y_train_res: SMOTE-resampled response\n",
    "        '''\n",
    "    X_train_res, X_test, y_train_res, y_test = split_and_upsample(df)\n",
    "    \n",
    "    pipe = make_pipeline(StandardScaler(), LogisticRegression(solver='liblinear', max_iter=1000))\n",
    "        \n",
    "    tuning_params = {'logisticregression__C': [1e-2, 1e-1, 1, 1e1, 1e2, 1e3, 1e4, 1e5, 1e6, 1e7]}\n",
    "    \n",
    "    g = GridSearchCV(pipe, tuning_params, scoring='roc_auc', cv=5, n_jobs = -1)\n",
    "    \n",
    "    g.fit(X_train_res, y_train_res)\n",
    "        \n",
    "    print('Best parameters: ', g.best_params_)\n",
    "    \n",
    "    print('Mean ROC grid scores: ', g.cv_results_['mean_test_score'])"
   ]
  },
  {
   "cell_type": "code",
   "execution_count": 216,
   "metadata": {},
   "outputs": [
    {
     "name": "stdout",
     "output_type": "stream",
     "text": [
      "Best parameters:  {'logisticregression__C': 100000.0}\n",
      "Mean ROC grid scores:  [0.88908328 0.90907156 0.91640863 0.91887168 0.92174481 0.92343825\n",
      " 0.92360249 0.92362452 0.92361601 0.92359898]\n"
     ]
    }
   ],
   "source": [
    "logisticCV(X_train_res, y_train_res)"
   ]
  },
  {
   "cell_type": "markdown",
   "metadata": {},
   "source": [
    "## Random Forest"
   ]
  },
  {
   "cell_type": "code",
   "execution_count": 234,
   "metadata": {},
   "outputs": [],
   "source": [
    "def RFCCV(X_train_res, y_train_res):\n",
    "    '''\n",
    "        Performs Random Forest Classificiation with 5 fold cross validation on training data.\n",
    "        Prints ROC and and best parameters.\n",
    "        ----Parameters----\n",
    "        X_train_res: SMOTE-resampled features\n",
    "        y_train_res: SMOTE-resampled response\n",
    "    '''                \n",
    "    pipe = make_pipeline(StandardScaler(), RandomForestClassifier())\n",
    "        \n",
    "    tuning_params = {'randomforestclassifier__max_depth': [50, 100, 150, 200], \n",
    "                     'randomforestclassifier__n_estimators': [50, 100, 150, 200]}\n",
    "    \n",
    "    g = GridSearchCV(pipe, tuning_params, scoring='roc_auc', cv=5, n_jobs = -1)\n",
    "    \n",
    "    g.fit(X_train_res, y_train_res)\n",
    "        \n",
    "    print('Best parameters: ', g.best_params_)\n",
    "    \n",
    "    print('Mean ROC grid scores: ', g.cv_results_['mean_test_score'])"
   ]
  },
  {
   "cell_type": "code",
   "execution_count": 235,
   "metadata": {},
   "outputs": [
    {
     "name": "stdout",
     "output_type": "stream",
     "text": [
      "Best parameters:  {'randomforestclassifier__max_depth': 200, 'randomforestclassifier__n_estimators': 100}\n",
      "Mean ROC grid scores:  [0.98479089 0.98534    0.98601122 0.98572817 0.98538858 0.98587844\n",
      " 0.9856436  0.98580957 0.98515082 0.98544969 0.98576535 0.98600824\n",
      " 0.98477615 0.98644185 0.98568751 0.98616326]\n"
     ]
    }
   ],
   "source": [
    "RFCCV(X_train_res, y_train_res)"
   ]
  },
  {
   "cell_type": "markdown",
   "metadata": {},
   "source": [
    "## Support vector machines"
   ]
  },
  {
   "cell_type": "code",
   "execution_count": null,
   "metadata": {},
   "outputs": [],
   "source": [
    "def SVMCV(df):\n",
    "    "
   ]
  },
  {
   "cell_type": "markdown",
   "metadata": {},
   "source": [
    "## Gaussian Naive Bayes"
   ]
  },
  {
   "cell_type": "code",
   "execution_count": 224,
   "metadata": {},
   "outputs": [],
   "source": [
    "def GNBCV(X_train_res, y_train_res):\n",
    "    '''\n",
    "        Performs Gaussian Naive Bayes classification with 5 fold cross validation on training data and\n",
    "        prints f1 macro score.\n",
    "        ----Parameters----\n",
    "        X_train_res: SMOTE-resampled features\n",
    "        y_train_res: SMOTE-resampled response\n",
    "    '''\n",
    "        \n",
    "    pipe = make_pipeline(StandardScaler(), GaussianNB())\n",
    "    \n",
    "    pipe.fit(X_train_res, y_train_res)\n",
    "    \n",
    "    scores = cross_val_score(pipe, X_train_res, y_train_res, cv=5, scoring='roc_auc')\n",
    "    \n",
    "    print('Cross validation ROC:', np.mean(scores))"
   ]
  },
  {
   "cell_type": "code",
   "execution_count": 225,
   "metadata": {},
   "outputs": [
    {
     "name": "stdout",
     "output_type": "stream",
     "text": [
      "Cross validation ROC: 0.9014331290671367\n"
     ]
    }
   ],
   "source": [
    "GNBCV(X_train_res, y_train_res)"
   ]
  },
  {
   "cell_type": "markdown",
   "metadata": {},
   "source": [
    "## Bernoulli Naive Bayes"
   ]
  },
  {
   "cell_type": "code",
   "execution_count": 228,
   "metadata": {},
   "outputs": [],
   "source": [
    "def BNBCV(X_train_res, y_train_res):\n",
    "    '''\n",
    "        Performs Bernoulli Naive Bayes classification with 5 fold cross validation on training data and\n",
    "        prints f1 macro score.\n",
    "        ----Parameters----\n",
    "        X_train_res: SMOTE-resampled features\n",
    "        y_train_res: SMOTE-resampled response\n",
    "    '''\n",
    "        \n",
    "    pipe = make_pipeline(StandardScaler(), BernoulliNB())\n",
    "    \n",
    "    pipe.fit(X_train_res, y_train_res)\n",
    "    \n",
    "    scores = cross_val_score(pipe, X_train_res, y_train_res, cv=5, scoring='roc_auc')\n",
    "    \n",
    "    print('Cross validation ROC:', np.mean(scores))"
   ]
  },
  {
   "cell_type": "code",
   "execution_count": 229,
   "metadata": {},
   "outputs": [
    {
     "name": "stdout",
     "output_type": "stream",
     "text": [
      "Cross validation ROC: 0.8193913246589553\n"
     ]
    }
   ],
   "source": [
    "BNBCV(X_train_res, y_train_res)"
   ]
  },
  {
   "cell_type": "code",
   "execution_count": null,
   "metadata": {},
   "outputs": [],
   "source": [
    "def treeCV(X_train_res, y_train_res):\n",
    "    '''\n",
    "        Performs Decision Tree Classification with 5 fold cross validation on training data.\n",
    "        Prints ROC and and best parameters.\n",
    "        ----Parameters----\n",
    "        X_train_res: SMOTE-resampled features\n",
    "        y_train_res: SMOTE-resampled response\n",
    "    '''\n",
    "    \n",
    "    pipe = make_pipeline(StandardScaler(), tree())\n",
    "    \n",
    "    pipe.fit(X_train_res, y_train_res)\n",
    "    \n",
    "    \n",
    "    \n",
    "    "
   ]
  }
 ],
 "metadata": {
  "kernelspec": {
   "display_name": "Python 3",
   "language": "python",
   "name": "python3"
  },
  "language_info": {
   "codemirror_mode": {
    "name": "ipython",
    "version": 3
   },
   "file_extension": ".py",
   "mimetype": "text/x-python",
   "name": "python",
   "nbconvert_exporter": "python",
   "pygments_lexer": "ipython3",
   "version": "3.6.5"
  }
 },
 "nbformat": 4,
 "nbformat_minor": 2
}
